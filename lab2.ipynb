{
 "cells": [
  {
   "cell_type": "code",
   "execution_count": null,
   "metadata": {},
   "outputs": [],
   "source": [
    "myTuple = (1,13,22,33)\n",
    "print"
   ]
  },
  {
   "cell_type": "code",
   "execution_count": 13,
   "metadata": {},
   "outputs": [
    {
     "name": "stdout",
     "output_type": "stream",
     "text": [
      "[1, 2, 3, 45]\n",
      "[1, 2, 3, 45]\n",
      "[1, 2, 3, 45, 10, 11, 12, 13]\n",
      "[1, 2, 3, 45, 10, 11, 12, 13]\n"
     ]
    }
   ],
   "source": [
    "myList = [1,2,3,45]\n",
    "urList = myList.copy()\n",
    "print(urList)\n",
    "hisList = urList[:]\n",
    "print(hisList)\n",
    "herList = [10,11,12,13]\n",
    "ourList = myList + herList\n",
    "urList.extend(herList)\n",
    "print(ourList)\n",
    "print(urList)"
   ]
  },
  {
   "cell_type": "markdown",
   "metadata": {},
   "source": [
    "Task 9: Copy Lists, Join lists"
   ]
  },
  {
   "cell_type": "code",
   "execution_count": 6,
   "metadata": {},
   "outputs": [
    {
     "name": "stdout",
     "output_type": "stream",
     "text": [
      "['1', '2', '3', '4', '5', 'Alpha', 'Bravo', 'Charlie', 'Delta', 'Epsilon']\n",
      "[22, 13, -5, 55, 103]\n"
     ]
    }
   ],
   "source": [
    "myList = [\"Alpha\", 'Bravo', 'Epsilon', 'Delta', 'Charlie', '3', '4', '2', '5', '1']\n",
    "myList.sort()\n",
    "print(myList)\n",
    "urList = [13,22,103,55,-5]\n",
    "def myFunc(n):\n",
    "    return abs(n-22)\n",
    "urList.sort(key = myFunc)\n",
    "print(urList)"
   ]
  },
  {
   "cell_type": "markdown",
   "metadata": {},
   "source": [
    "Task 8: Sort List"
   ]
  },
  {
   "cell_type": "code",
   "execution_count": 61,
   "metadata": {},
   "outputs": [
    {
     "name": "stdout",
     "output_type": "stream",
     "text": [
      "['apple', 'banana', 'mango']\n",
      "['banana', 'mango']\n",
      "['juice', 'juice', 'juice', 'juice', 'juice']\n",
      "['apple', 'grape', 'cherry', 'kiwi', 'mango']\n"
     ]
    }
   ],
   "source": [
    "fruits = [\"apple\", \"banana\", \"cherry\", \"kiwi\", \"mango\"]\n",
    "newList = [ ]\n",
    "for x in fruits:\n",
    "  if \"a\" in x:\n",
    "    newList.append(x)\n",
    "print(newList)\n",
    "newList = [x for x in fruits if \"n\" in x]\n",
    "print(newList)\n",
    "newList = ['juice' for x in fruits]\n",
    "myList = [x if x != 'banana' else 'grape' for x in fruits]\n",
    "print(newList)\n",
    "print(myList)"
   ]
  },
  {
   "cell_type": "markdown",
   "metadata": {},
   "source": [
    "Task 7: List Comprehension"
   ]
  },
  {
   "cell_type": "code",
   "execution_count": null,
   "metadata": {},
   "outputs": [],
   "source": [
    "myList = [1,\"red\",2,\" \"]\n",
    "i=0\n",
    "while(i<len(myList)):\n",
    "    print(myList[i])\n",
    "    i = i + 1\n",
    "for x in myList:\n",
    "    print(x)\n",
    "for i in range(len(myList)):\n",
    "    print(myList[i])\n",
    "[print(x) for x in myList]"
   ]
  },
  {
   "cell_type": "markdown",
   "metadata": {},
   "source": [
    "Task 6: Loop Lists"
   ]
  },
  {
   "cell_type": "code",
   "execution_count": null,
   "metadata": {},
   "outputs": [],
   "source": [
    "myList = [1,3,5,7]\n",
    "myList.append(\"green\")\n",
    "print(myList)\n",
    "urList = [2,4,6,8]\n",
    "myList.extend(urList)\n",
    "print(myList)\n",
    "myTuple = (\"red\", \"brown\")\n",
    "myList.extend(myTuple)\n",
    "print(myList)\n",
    "myList.remove(\"red\")\n",
    "myList.pop(2)\n",
    "del myList[2]\n",
    "urList.clear()\n",
    "print(myList)\n",
    "print(urList)"
   ]
  },
  {
   "cell_type": "markdown",
   "metadata": {},
   "source": [
    "Task 5: add list items, remove list items"
   ]
  },
  {
   "cell_type": "code",
   "execution_count": null,
   "metadata": {},
   "outputs": [],
   "source": [
    "myList = [13, 25, 33, 55, 66, 102, 49]\n",
    "print(myList[2])\n",
    "if(13 in myList):\n",
    "    print(myList[-4:-1])\n",
    "myList[2] = \"yellow\"\n",
    "print(myList)\n",
    "myList[-3:] = [\"red\", 22, 13, \"blue\"]\n",
    "print(myList)\n",
    "myList.insert(0, 14)\n",
    "print(myList)"
   ]
  },
  {
   "cell_type": "markdown",
   "metadata": {},
   "source": [
    "Task 4: Access list items, change list items"
   ]
  },
  {
   "cell_type": "code",
   "execution_count": null,
   "metadata": {},
   "outputs": [],
   "source": [
    "myList = [\"KBTU\", \"NU\", \"MNU\", \"KBTU\"]\n",
    "urList = [1,13,25,666,13]\n",
    "ourList = list((\"KBTU\", 13, \"NU\", 1332, \"MNU\", 666))\n",
    "print(myList, len(myList), type(myList))\n",
    "print(urList, len(urList), type(urList))\n",
    "print(ourList, len(ourList), type(ourList))"
   ]
  },
  {
   "cell_type": "markdown",
   "metadata": {},
   "source": [
    "Task 3: Lists"
   ]
  },
  {
   "cell_type": "code",
   "execution_count": null,
   "metadata": {},
   "outputs": [],
   "source": [
    "a = 10\n",
    "b = 13\n",
    "c = 2\n",
    "print(a+b*b)\n",
    "print(a**c)\n",
    "if(a<b or c>a):\n",
    "    print(\"True\")\n",
    "if(a>b and c>b):\n",
    "    print(\"True\")\n",
    "else:\n",
    "    print(\"False\")"
   ]
  },
  {
   "cell_type": "markdown",
   "metadata": {},
   "source": [
    "Task 2: Operators"
   ]
  },
  {
   "cell_type": "code",
   "execution_count": null,
   "metadata": {},
   "outputs": [],
   "source": [
    "a = 5\n",
    "b = 2\n",
    "if(a>b):\n",
    "    print(\"A is greater than B\")\n",
    "else:\n",
    "    print(\"B is greater than A\")\n",
    "print(bool(a))\n",
    "\n",
    "def myFunc():\n",
    "    return True\n",
    "if(myFunc()):\n",
    "    print(\"Yes\")\n",
    "else:\n",
    "    print(\"No\")"
   ]
  },
  {
   "cell_type": "markdown",
   "metadata": {},
   "source": [
    "Task 1: Booleans"
   ]
  }
 ],
 "metadata": {
  "kernelspec": {
   "display_name": "Python 3",
   "language": "python",
   "name": "python3"
  },
  "language_info": {
   "codemirror_mode": {
    "name": "ipython",
    "version": 3
   },
   "file_extension": ".py",
   "mimetype": "text/x-python",
   "name": "python",
   "nbconvert_exporter": "python",
   "pygments_lexer": "ipython3",
   "version": "3.13.1"
  }
 },
 "nbformat": 4,
 "nbformat_minor": 2
}
