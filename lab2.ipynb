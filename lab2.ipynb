{
 "cells": [
  {
   "cell_type": "code",
   "execution_count": null,
   "metadata": {},
   "outputs": [],
   "source": [
    "names = ['amir', 'nursultan', 'olzhas']\n",
    "for x in names:\n",
    "    print(x)\n",
    "for x in 'abrakadabra':\n",
    "    if(x == a):\n",
    "        continue\n",
    "    print(x)\n",
    "    if(x == 'k'):\n",
    "        break\n",
    "for x in range(2,6):\n",
    "    if(x==4): break\n",
    "    print(x)\n",
    "else:\n",
    "    print('finish')\n",
    "for x in [0,1,2]:\n",
    "    pass\n"
   ]
  },
  {
   "cell_type": "markdown",
   "metadata": {},
   "source": [
    "Task 22: For loop"
   ]
  },
  {
   "cell_type": "code",
   "execution_count": null,
   "metadata": {},
   "outputs": [],
   "source": [
    "i = 0\n",
    "while i < 13:\n",
    "  print(i)\n",
    "  if i == 7:\n",
    "    break\n",
    "  i += 1\n",
    "\n",
    "i = 0\n",
    "while i < 9:\n",
    "  i+=1\n",
    "  if i == 5:\n",
    "    continue\n",
    "  print(i)\n",
    "else:\n",
    "  print('i > 9')"
   ]
  },
  {
   "cell_type": "markdown",
   "metadata": {},
   "source": [
    "Task 21: While loop"
   ]
  },
  {
   "cell_type": "code",
   "execution_count": null,
   "metadata": {},
   "outputs": [],
   "source": [
    "a = 13\n",
    "b = 54\n",
    "if a>b: print(\"a > b\")\n",
    "elif a == b: print('a = b')\n",
    "else: print('a < b')\n",
    "print('a > b') if a>b else print('a = b') if a == b else print('a < b')\n",
    "c = 67\n",
    "if a < b and b < c:\n",
    "    print('True')\n",
    "if a > b or c > b:\n",
    "    print('at least 1 true')\n",
    "if not a > b:\n",
    "    print('a < b')\n",
    "if a > 10:\n",
    "    print('a > 10')\n",
    "    if a > 20:\n",
    "        print('a > 20')\n",
    "    else:\n",
    "        print('10 < a < 20')\n",
    "if b > a:\n",
    "    pass "
   ]
  },
  {
   "cell_type": "markdown",
   "metadata": {},
   "source": [
    "Task 20: If Else"
   ]
  },
  {
   "cell_type": "code",
   "execution_count": null,
   "metadata": {},
   "outputs": [],
   "source": [
    "cars = {\n",
    "    'car1' : {\n",
    "        'brand' : \"ford\",\n",
    "        'model' : 'scorpio'\n",
    "    },\n",
    "    'car2' : {\n",
    "        'brand' : \"bmw\",\n",
    "        'model' : 'm5 g30'\n",
    "    },\n",
    "    'car3' : {\n",
    "        'brand' : 'audi',\n",
    "        'model' : 'rs6'\n",
    "    }\n",
    "}\n",
    "print(cars['car1']['model'])\n",
    "for x, obj in cars.items():\n",
    "    print(x)\n",
    "    for y in obj:\n",
    "        print(y + ' : ', obj[y])\n"
   ]
  },
  {
   "cell_type": "markdown",
   "metadata": {},
   "source": [
    "Task 19: Nested dictionaries"
   ]
  },
  {
   "cell_type": "code",
   "execution_count": null,
   "metadata": {},
   "outputs": [],
   "source": [
    "car = {\n",
    "    \"Brand\" : \"Ford\",\n",
    "    \"Model\" : \"Scorpio\",\n",
    "    \"Year\" : 1994\n",
    "}\n",
    "for x in car:\n",
    "    print(x, car[x])\n",
    "for x in car.values():\n",
    "    print(x)\n",
    "for x in car.keys():\n",
    "    print(x)\n",
    "for x,y in car.items():\n",
    "    print(x,y)\n",
    "volk = car.copy()\n",
    "tigr = dict(volk)\n",
    "print(volk, tigr)"
   ]
  },
  {
   "cell_type": "markdown",
   "metadata": {},
   "source": [
    "Task 18: Loop dictionaries, copy dictionaries"
   ]
  },
  {
   "cell_type": "code",
   "execution_count": null,
   "metadata": {},
   "outputs": [],
   "source": [
    "car = {\n",
    "    \"Brand\" : \"Ford\",\n",
    "    \"Model\" : \"Scorpio\",\n",
    "    \"Year\" : 1994\n",
    "}\n",
    "car.update({\"Year\" : 1995})\n",
    "car['color'] = 'Red'\n",
    "car.update({'Owner' : 'Amir'})\n",
    "print(car)\n",
    "car.pop('Owner')\n",
    "car.popitem()\n",
    "del car['Model']\n",
    "print(car)\n",
    "car.clear()\n"
   ]
  },
  {
   "cell_type": "markdown",
   "metadata": {},
   "source": [
    "Task 17: Change, Add, Remove items"
   ]
  },
  {
   "cell_type": "code",
   "execution_count": null,
   "metadata": {},
   "outputs": [],
   "source": [
    "myDict = {\n",
    "    \"Name\": \"Amir\",\n",
    "    \"Age\" : 19,\n",
    "    \"School\" : \"SITE\",\n",
    "    'Grades' : [80,88,92,91,87]\n",
    "}\n",
    "print(myDict, len(myDict), type(myDict))\n",
    "grades = myDict['Grades']\n",
    "print(grades)\n",
    "keys = myDict.keys()\n",
    "print(keys)\n",
    "print(myDict.values())\n",
    "myDict['Year'] = 1\n",
    "myDict.update({'Age' : 20})\n",
    "print(keys)\n",
    "print(myDict.values())\n",
    "print(myDict.items())"
   ]
  },
  {
   "cell_type": "markdown",
   "metadata": {},
   "source": [
    "Task 16: Dictionaries, Access items, Change items"
   ]
  },
  {
   "cell_type": "code",
   "execution_count": null,
   "metadata": {},
   "outputs": [],
   "source": [
    "set1 = {1,3,5,7,9}\n",
    "set2 = {2,4,6,8,10}\n",
    "list1 = [\"a\", 'b', 'c']\n",
    "set4 = set1.union(set2, list1)\n",
    "print(set4)\n",
    "set4 = set1 | set2\n",
    "print(set4)\n",
    "set1.update(set2)\n",
    "print(set1)"
   ]
  },
  {
   "cell_type": "markdown",
   "metadata": {},
   "source": [
    "Task 15: Join sets"
   ]
  },
  {
   "cell_type": "code",
   "execution_count": null,
   "metadata": {},
   "outputs": [],
   "source": [
    "mySet = {1,2,3,4,5,6,6,7,7,7,8}\n",
    "mySet.discard(4)\n",
    "mySet.remove(1)\n",
    "mySet.pop()\n",
    "print(mySet)\n",
    "mySet.clear()\n",
    "print(mySet)\n",
    "del mySet"
   ]
  },
  {
   "cell_type": "markdown",
   "metadata": {},
   "source": [
    "Task 14: Remove set items"
   ]
  },
  {
   "cell_type": "code",
   "execution_count": null,
   "metadata": {},
   "outputs": [],
   "source": [
    "mySet = {\"Amir\", \"Alina\", \"Alikhan\", 'Amir'}\n",
    "print(mySet, len(mySet), type(mySet))\n",
    "for x in mySet:\n",
    "    print(x)\n",
    "print(\"Amir\" in mySet)\n",
    "print(\"Sanzhar\" not in mySet)\n",
    "urList = [\"Rasul\", \"Adiler\", \"Tlek\", \"Olzhas\"]\n",
    "mySet.add(\"Sanzhar\")\n",
    "mySet.update(urList)\n",
    "print(mySet)\n"
   ]
  },
  {
   "cell_type": "markdown",
   "metadata": {},
   "source": [
    "Task 13: Sets, Access set items, add set items"
   ]
  },
  {
   "cell_type": "code",
   "execution_count": null,
   "metadata": {},
   "outputs": [],
   "source": [
    "tuple1 = ('a', 'b', 'c')\n",
    "tuple2 = (1,2,3)\n",
    "tuple3 = tuple1 + tuple2\n",
    "tuple3 = tuple3*2\n",
    "print(tuple3)"
   ]
  },
  {
   "cell_type": "markdown",
   "metadata": {},
   "source": [
    "Task 12: Join tuples"
   ]
  },
  {
   "cell_type": "code",
   "execution_count": null,
   "metadata": {},
   "outputs": [],
   "source": [
    "names = (\"Amir\", \"Sanzhar\", \"Alina\", \"Liana\")\n",
    "(name1, *name2, name3) = names\n",
    "print(name1)\n",
    "print(name2)\n",
    "print(name3)\n",
    "for x in names:\n",
    "    print(x)\n",
    "for i in range(len(names)):\n",
    "    print(names[i])\n",
    "i = 0\n",
    "while(i<len(names)):\n",
    "    print(names[i])\n",
    "    i += 1"
   ]
  },
  {
   "cell_type": "markdown",
   "metadata": {},
   "source": [
    "Task 11: Unpack Tuples, loop tuples"
   ]
  },
  {
   "cell_type": "code",
   "execution_count": null,
   "metadata": {},
   "outputs": [],
   "source": [
    "myTuple = (1,13,22,33,45,49,76)\n",
    "print(myTuple, len(myTuple), type(myTuple))\n",
    "print(myTuple[1], myTuple[-4:])\n",
    "myList = list(myTuple)\n",
    "myList[2] = 101\n",
    "myList.append(223)\n",
    "myList.remove(33)\n",
    "urTuple = (123,)\n",
    "myTuple = tuple(myList)\n",
    "myTuple += urTuple\n",
    "print(myTuple)"
   ]
  },
  {
   "cell_type": "markdown",
   "metadata": {},
   "source": [
    "Task 10: Access tuple, change tuple"
   ]
  },
  {
   "cell_type": "code",
   "execution_count": null,
   "metadata": {},
   "outputs": [],
   "source": [
    "myList = [1,2,3,45]\n",
    "urList = myList.copy()\n",
    "print(urList)\n",
    "hisList = urList[:]\n",
    "print(hisList)\n",
    "herList = [10,11,12,13]\n",
    "ourList = myList + herList\n",
    "urList.extend(herList)\n",
    "print(ourList)\n",
    "print(urList)"
   ]
  },
  {
   "cell_type": "markdown",
   "metadata": {},
   "source": [
    "Task 9: Copy Lists, Join lists"
   ]
  },
  {
   "cell_type": "code",
   "execution_count": null,
   "metadata": {},
   "outputs": [],
   "source": [
    "myList = [\"Alpha\", 'Bravo', 'Epsilon', 'Delta', 'Charlie', '3', '4', '2', '5', '1']\n",
    "myList.sort()\n",
    "print(myList)\n",
    "urList = [13,22,103,55,-5]\n",
    "def myFunc(n):\n",
    "    return abs(n-22)\n",
    "urList.sort(key = myFunc)\n",
    "print(urList)"
   ]
  },
  {
   "cell_type": "markdown",
   "metadata": {},
   "source": [
    "Task 8: Sort List"
   ]
  },
  {
   "cell_type": "code",
   "execution_count": null,
   "metadata": {},
   "outputs": [],
   "source": [
    "fruits = [\"apple\", \"banana\", \"cherry\", \"kiwi\", \"mango\"]\n",
    "newList = [ ]\n",
    "for x in fruits:\n",
    "  if \"a\" in x:\n",
    "    newList.append(x)\n",
    "print(newList)\n",
    "newList = [x for x in fruits if \"n\" in x]\n",
    "print(newList)\n",
    "newList = ['juice' for x in fruits]\n",
    "myList = [x if x != 'banana' else 'grape' for x in fruits]\n",
    "print(newList)\n",
    "print(myList)"
   ]
  },
  {
   "cell_type": "markdown",
   "metadata": {},
   "source": [
    "Task 7: List Comprehension"
   ]
  },
  {
   "cell_type": "code",
   "execution_count": null,
   "metadata": {},
   "outputs": [],
   "source": [
    "myList = [1,\"red\",2,\" \"]\n",
    "i=0\n",
    "while(i<len(myList)):\n",
    "    print(myList[i])\n",
    "    i = i + 1\n",
    "for x in myList:\n",
    "    print(x)\n",
    "for i in range(len(myList)):\n",
    "    print(myList[i])\n",
    "[print(x) for x in myList]"
   ]
  },
  {
   "cell_type": "markdown",
   "metadata": {},
   "source": [
    "Task 6: Loop Lists"
   ]
  },
  {
   "cell_type": "code",
   "execution_count": null,
   "metadata": {},
   "outputs": [],
   "source": [
    "myList = [1,3,5,7]\n",
    "myList.append(\"green\")\n",
    "print(myList)\n",
    "urList = [2,4,6,8]\n",
    "myList.extend(urList)\n",
    "print(myList)\n",
    "myTuple = (\"red\", \"brown\")\n",
    "myList.extend(myTuple)\n",
    "print(myList)\n",
    "myList.remove(\"red\")\n",
    "myList.pop(2)\n",
    "del myList[2]\n",
    "urList.clear()\n",
    "print(myList)\n",
    "print(urList)"
   ]
  },
  {
   "cell_type": "markdown",
   "metadata": {},
   "source": [
    "Task 5: add list items, remove list items"
   ]
  },
  {
   "cell_type": "code",
   "execution_count": null,
   "metadata": {},
   "outputs": [],
   "source": [
    "myList = [13, 25, 33, 55, 66, 102, 49]\n",
    "print(myList[2])\n",
    "if(13 in myList):\n",
    "    print(myList[-4:-1])\n",
    "myList[2] = \"yellow\"\n",
    "print(myList)\n",
    "myList[-3:] = [\"red\", 22, 13, \"blue\"]\n",
    "print(myList)\n",
    "myList.insert(0, 14)\n",
    "print(myList)"
   ]
  },
  {
   "cell_type": "markdown",
   "metadata": {},
   "source": [
    "Task 4: Access list items, change list items"
   ]
  },
  {
   "cell_type": "code",
   "execution_count": null,
   "metadata": {},
   "outputs": [],
   "source": [
    "myList = [\"KBTU\", \"NU\", \"MNU\", \"KBTU\"]\n",
    "urList = [1,13,25,666,13]\n",
    "ourList = list((\"KBTU\", 13, \"NU\", 1332, \"MNU\", 666))\n",
    "print(myList, len(myList), type(myList))\n",
    "print(urList, len(urList), type(urList))\n",
    "print(ourList, len(ourList), type(ourList))"
   ]
  },
  {
   "cell_type": "markdown",
   "metadata": {},
   "source": [
    "Task 3: Lists"
   ]
  },
  {
   "cell_type": "code",
   "execution_count": null,
   "metadata": {},
   "outputs": [],
   "source": [
    "a = 10\n",
    "b = 13\n",
    "c = 2\n",
    "print(a+b*b)\n",
    "print(a**c)\n",
    "if(a<b or c>a):\n",
    "    print(\"True\")\n",
    "if(a>b and c>b):\n",
    "    print(\"True\")\n",
    "else:\n",
    "    print(\"False\")"
   ]
  },
  {
   "cell_type": "markdown",
   "metadata": {},
   "source": [
    "Task 2: Operators"
   ]
  },
  {
   "cell_type": "code",
   "execution_count": null,
   "metadata": {},
   "outputs": [],
   "source": [
    "a = 5\n",
    "b = 2\n",
    "if(a>b):\n",
    "    print(\"A is greater than B\")\n",
    "else:\n",
    "    print(\"B is greater than A\")\n",
    "print(bool(a))\n",
    "\n",
    "def myFunc():\n",
    "    return True\n",
    "if(myFunc()):\n",
    "    print(\"Yes\")\n",
    "else:\n",
    "    print(\"No\")"
   ]
  },
  {
   "cell_type": "markdown",
   "metadata": {},
   "source": [
    "Task 1: Booleans"
   ]
  }
 ],
 "metadata": {
  "kernelspec": {
   "display_name": "Python 3",
   "language": "python",
   "name": "python3"
  },
  "language_info": {
   "codemirror_mode": {
    "name": "ipython",
    "version": 3
   },
   "file_extension": ".py",
   "mimetype": "text/x-python",
   "name": "python",
   "nbconvert_exporter": "python",
   "pygments_lexer": "ipython3",
   "version": "3.13.1"
  }
 },
 "nbformat": 4,
 "nbformat_minor": 2
}
